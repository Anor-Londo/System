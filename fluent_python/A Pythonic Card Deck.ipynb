{
 "cells": [
  {
   "cell_type": "markdown",
   "metadata": {},
   "source": [
    "# A Pythonic Card Deck"
   ]
  },
  {
   "cell_type": "markdown",
   "metadata": {},
   "source": [
    "The following is a very simple example, but it demonstrates the power of implementing\n",
    "just two special methods, **\\__getitem__** and **\\__len__**."
   ]
  },
  {
   "cell_type": "code",
   "execution_count": 2,
   "metadata": {},
   "outputs": [],
   "source": [
    "import collections"
   ]
  },
  {
   "cell_type": "code",
   "execution_count": 12,
   "metadata": {},
   "outputs": [],
   "source": [
    "Card = collections.namedtuple('Card', ['suit', 'rank'])\n",
    "\n",
    "class FrenchDeck():\n",
    "    ranks = [str(n) for n in range(2,11)] + list('JQKA')\n",
    "    suits = 'spades diamonds clubs hearts'.split()\n",
    "    \n",
    "    def __init__(self):\n",
    "        self._cards = [Card(suit, rank) for suit in self.suits \n",
    "                       for rank in self.ranks]\n",
    "    \n",
    "    def __len__(self):\n",
    "        return len(self._cards)\n",
    "    \n",
    "    def __getitem__(self, index):\n",
    "        return self._cards[index]"
   ]
  },
  {
   "cell_type": "markdown",
   "metadata": {},
   "source": [
    "The first thing to note is the use of collections.namedtuple to construct a simple class\n",
    "to represent individual cards. In the example we use it to provide a nice representation for the cards in the\n",
    "deck, as shown below:"
   ]
  },
  {
   "cell_type": "code",
   "execution_count": 6,
   "metadata": {},
   "outputs": [
    {
     "data": {
      "text/plain": [
       "Card(suit='spades', rank='7')"
      ]
     },
     "execution_count": 6,
     "metadata": {},
     "output_type": "execute_result"
    }
   ],
   "source": [
    "beer_card = Card('spades','7')\n",
    "beer_card"
   ]
  },
  {
   "cell_type": "markdown",
   "metadata": {},
   "source": [
    "But the point of this example is the FrenchDeck class. It’s short, but it packs a punch.\n",
    "First, like any standard Python collection, a deck responds to the len() function by\n",
    "returning the number of cards in it."
   ]
  },
  {
   "cell_type": "code",
   "execution_count": 15,
   "metadata": {},
   "outputs": [
    {
     "data": {
      "text/plain": [
       "52"
      ]
     },
     "execution_count": 15,
     "metadata": {},
     "output_type": "execute_result"
    }
   ],
   "source": [
    "deck = FrenchDeck()\n",
    "len(deck)"
   ]
  },
  {
   "cell_type": "markdown",
   "metadata": {},
   "source": [
    "Reading specific cards from the deck, say, the first or the last, should be as easy as deck[0]\n",
    "or deck[-1] , and this is what the **\\__getitem__** method provides."
   ]
  },
  {
   "cell_type": "code",
   "execution_count": 16,
   "metadata": {},
   "outputs": [
    {
     "data": {
      "text/plain": [
       "Card(suit='spades', rank='2')"
      ]
     },
     "execution_count": 16,
     "metadata": {},
     "output_type": "execute_result"
    }
   ],
   "source": [
    "deck[0]"
   ]
  },
  {
   "cell_type": "code",
   "execution_count": 17,
   "metadata": {},
   "outputs": [
    {
     "data": {
      "text/plain": [
       "Card(suit='hearts', rank='A')"
      ]
     },
     "execution_count": 17,
     "metadata": {},
     "output_type": "execute_result"
    }
   ],
   "source": [
    "deck[-1]"
   ]
  },
  {
   "cell_type": "markdown",
   "metadata": {},
   "source": [
    "Should we create a method to pick a random card? No need. Python already has a\n",
    "function to get a random item from a sequence: random.choice . We can just use it on\n",
    "a deck instance:"
   ]
  },
  {
   "cell_type": "code",
   "execution_count": 32,
   "metadata": {},
   "outputs": [
    {
     "data": {
      "text/plain": [
       "Card(suit='clubs', rank='7')"
      ]
     },
     "execution_count": 32,
     "metadata": {},
     "output_type": "execute_result"
    }
   ],
   "source": [
    "from random import choice\n",
    "choice(deck) #execute the line to get different result"
   ]
  },
  {
   "cell_type": "markdown",
   "metadata": {},
   "source": [
    "We’ve just seen two advantages of using special methods to leverage the Python Data\n",
    "Model:\n",
    "1. The users of your classes don’t have to memorize arbitrary method names for stan‐\n",
    "dard operations (“How to get the number of items? Is it .size() .length() or what?”)\n",
    "2. It’s easier to benefit from the rich Python standard library and avoid reinventing\n",
    "the wheel, like the random.choice function.\n",
    "\n",
    "\n",
    "But it gets better. Because our **\\__getitem__** delegates to the [] operator of self._cards , our deck auto‐\n",
    "matically supports slicing."
   ]
  },
  {
   "cell_type": "code",
   "execution_count": 34,
   "metadata": {},
   "outputs": [
    {
     "data": {
      "text/plain": [
       "[Card(suit='spades', rank='2'),\n",
       " Card(suit='spades', rank='3'),\n",
       " Card(suit='spades', rank='4')]"
      ]
     },
     "execution_count": 34,
     "metadata": {},
     "output_type": "execute_result"
    }
   ],
   "source": [
    "deck[:3]"
   ]
  },
  {
   "cell_type": "code",
   "execution_count": 35,
   "metadata": {},
   "outputs": [
    {
     "data": {
      "text/plain": [
       "[Card(suit='spades', rank='A'),\n",
       " Card(suit='diamonds', rank='A'),\n",
       " Card(suit='clubs', rank='A'),\n",
       " Card(suit='hearts', rank='A')]"
      ]
     },
     "execution_count": 35,
     "metadata": {},
     "output_type": "execute_result"
    }
   ],
   "source": [
    "deck[12::13]"
   ]
  },
  {
   "cell_type": "markdown",
   "metadata": {},
   "source": [
    "Just by implementing the **\\__getitem__** special method, our deck is also iterable:"
   ]
  },
  {
   "cell_type": "code",
   "execution_count": 36,
   "metadata": {},
   "outputs": [
    {
     "name": "stdout",
     "output_type": "stream",
     "text": [
      "Card(suit='spades', rank='2')\n",
      "Card(suit='spades', rank='3')\n",
      "Card(suit='spades', rank='4')\n",
      "Card(suit='spades', rank='5')\n",
      "Card(suit='spades', rank='6')\n",
      "Card(suit='spades', rank='7')\n",
      "Card(suit='spades', rank='8')\n",
      "Card(suit='spades', rank='9')\n",
      "Card(suit='spades', rank='10')\n",
      "Card(suit='spades', rank='J')\n",
      "Card(suit='spades', rank='Q')\n",
      "Card(suit='spades', rank='K')\n",
      "Card(suit='spades', rank='A')\n",
      "Card(suit='diamonds', rank='2')\n",
      "Card(suit='diamonds', rank='3')\n",
      "Card(suit='diamonds', rank='4')\n",
      "Card(suit='diamonds', rank='5')\n",
      "Card(suit='diamonds', rank='6')\n",
      "Card(suit='diamonds', rank='7')\n",
      "Card(suit='diamonds', rank='8')\n",
      "Card(suit='diamonds', rank='9')\n",
      "Card(suit='diamonds', rank='10')\n",
      "Card(suit='diamonds', rank='J')\n",
      "Card(suit='diamonds', rank='Q')\n",
      "Card(suit='diamonds', rank='K')\n",
      "Card(suit='diamonds', rank='A')\n",
      "Card(suit='clubs', rank='2')\n",
      "Card(suit='clubs', rank='3')\n",
      "Card(suit='clubs', rank='4')\n",
      "Card(suit='clubs', rank='5')\n",
      "Card(suit='clubs', rank='6')\n",
      "Card(suit='clubs', rank='7')\n",
      "Card(suit='clubs', rank='8')\n",
      "Card(suit='clubs', rank='9')\n",
      "Card(suit='clubs', rank='10')\n",
      "Card(suit='clubs', rank='J')\n",
      "Card(suit='clubs', rank='Q')\n",
      "Card(suit='clubs', rank='K')\n",
      "Card(suit='clubs', rank='A')\n",
      "Card(suit='hearts', rank='2')\n",
      "Card(suit='hearts', rank='3')\n",
      "Card(suit='hearts', rank='4')\n",
      "Card(suit='hearts', rank='5')\n",
      "Card(suit='hearts', rank='6')\n",
      "Card(suit='hearts', rank='7')\n",
      "Card(suit='hearts', rank='8')\n",
      "Card(suit='hearts', rank='9')\n",
      "Card(suit='hearts', rank='10')\n",
      "Card(suit='hearts', rank='J')\n",
      "Card(suit='hearts', rank='Q')\n",
      "Card(suit='hearts', rank='K')\n",
      "Card(suit='hearts', rank='A')\n"
     ]
    }
   ],
   "source": [
    "for card in deck:\n",
    "    print(card)"
   ]
  },
  {
   "cell_type": "markdown",
   "metadata": {},
   "source": [
    "Iteration is often implicit. If a collection has no **\\__contains__** method, the in operator\n",
    "does a sequential scan. Case in point: in works with our FrenchDeck class because it is\n",
    "iterable. Check it out:"
   ]
  },
  {
   "cell_type": "code",
   "execution_count": 40,
   "metadata": {},
   "outputs": [
    {
     "data": {
      "text/plain": [
       "True"
      ]
     },
     "execution_count": 40,
     "metadata": {},
     "output_type": "execute_result"
    }
   ],
   "source": [
    "Card('hearts', '3') in deck"
   ]
  },
  {
   "cell_type": "code",
   "execution_count": 41,
   "metadata": {},
   "outputs": [
    {
     "data": {
      "text/plain": [
       "False"
      ]
     },
     "execution_count": 41,
     "metadata": {},
     "output_type": "execute_result"
    }
   ],
   "source": [
    "Card('beasts', '3') in deck"
   ]
  },
  {
   "cell_type": "markdown",
   "metadata": {},
   "source": [
    "Although FrenchDeck implicitly inherits from object, its functionality is not inherited,\n",
    "but comes from leveraging the Data Model and composition. By implementing the\n",
    "special methods **\\__len__** and **\\__getitem__** our FrenchDeck behaves like a standard\n",
    "Python sequence, allowing it to benefit from core language features — like iteration and\n",
    "slicing — and from the standard library, as shown by the examples using _random.choice_. Thanks to composition, the **\\__len__** and **\\__getitem__** implementations can hand off all the work to a list object, _self._cards_ ."
   ]
  }
 ],
 "metadata": {
  "kernelspec": {
   "display_name": "Python 3",
   "language": "python",
   "name": "python3"
  },
  "language_info": {
   "codemirror_mode": {
    "name": "ipython",
    "version": 3
   },
   "file_extension": ".py",
   "mimetype": "text/x-python",
   "name": "python",
   "nbconvert_exporter": "python",
   "pygments_lexer": "ipython3",
   "version": "3.8.3"
  }
 },
 "nbformat": 4,
 "nbformat_minor": 4
}
